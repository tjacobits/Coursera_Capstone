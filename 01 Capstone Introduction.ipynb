{
    "cells": [
        {
            "cell_type": "markdown",
            "metadata": {
                "collapsed": true
            },
            "source": "## Access to retail and home-goods in Detroit, MI\n#### A final project using skills learned in the IBM Data Science Professional Certificate program  on Coursera."
        },
        {
            "cell_type": "markdown",
            "metadata": {},
            "source": "<b>Defining the issue and stakeholders:</b>  For 18 years I worked in the non-profit sector in Detroit, MI while living on the near eastside in the city proper.\n\nOne of the issues that some non-profit groups in Detroit address is the presence of food deserts.  The wiki page for \u2018food desert\u2019 (https://en.wikipedia.org/wiki/Food_desert) provides an excellent and detailed description of this concept while the opening paragraph offers a succinct definition:  <i>\u201cA food desert is an area that has limited access to affordable and nutritious food,in contrast with an area with higher access to supermarkets or vegetable shops with fresh foods, which is called a food oasis.\u201d</i>\n\nThe issue of food deserts has already received a large amount of attention, research, and data mapping and so I will not be looking at that issue but by way of the food desert topic, I will transition to a similar issue that has received less attention:  The lack of access to other retail.\n\nIn my particular situation I was a homeowner of a 100 year old home that required quite a few supplies for maintenance and upkeep.  In addition, I am a gardener and this hobby also required supplies.  In both cases, there were minimal local options and a typical supply trip involved driving a minimum of 16 miles round-trip and a minimum of 45 minutes drive-time depending on traffic conditions.\n\nWith this experience as the motivator, the purpose of this project is to map location based access to hardware, homegoods, and bigbox retail shops that provide needed supplies for home maintenance and daily living.  After the initial mapping, use the k-means method taught in this course to group similar neighborhoods.\n\nThe final outcome is to provide an initial assessment of where there may be a need for non-profits to explore how to provide these supplies to under-served communities.\n"
        }
    ],
    "metadata": {
        "kernelspec": {
            "display_name": "Python 3.6",
            "language": "python",
            "name": "python3"
        },
        "language_info": {
            "codemirror_mode": {
                "name": "ipython",
                "version": 3
            },
            "file_extension": ".py",
            "mimetype": "text/x-python",
            "name": "python",
            "nbconvert_exporter": "python",
            "pygments_lexer": "ipython3",
            "version": "3.6.9"
        }
    },
    "nbformat": 4,
    "nbformat_minor": 1
}