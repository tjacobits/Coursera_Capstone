{
    "cells": [
        {
            "cell_type": "markdown",
            "metadata": {
                "collapsed": true
            },
            "source": "<b> Description of the Desired Data and Data Collection</b>:  Following the basic model as developed in this course, I will use the Four Square API to retrieve neighborhood specific data. I will retrieve venue categories as defined in the Foursquare Venue Category Hierarchy. (https://developer.foursquare.com/docs/build-with-foursquare/categories/) \n\n<b>Collecting geo-coded information:</b>\n1. The city of Detroit has identified neighborhoods and provides an online map. https://detroitmi.gov/webapp/interactive-district-map\n2. Using this map, I cross referenced two other websites: https://www.zipmap.net/Michigan/Wayne_County/ and https://www.latlong.net/ . These two sites provide a zipcode map of Detroit and the latitude and longitude of any location by way of dropping a pin.\n3. The result of step 2 is a csv file of neighborhood name, zipcode, latitude and longitude. https://docs.google.com/spreadsheets/d/e/2PACX-1vQnWbnmwrC1bM1MLRu3SgFc_9UJZzBuo0lZV34YvkeZGuPhdrDb_3AP-BDp3d-6-lSKAu0m5rJaSTH6/pub?gid=590577091&single=true&output=csv\n\n<b>Venue Categories:</b><p>\nBig Box Store, 52f2ab2ebcbc57f1066b8b42 (to include Home Depot, Lowes, and similar)\\\nDepartment Store, 4bf58dd8d48988d1f6941735 (to include Target and similar)\\\nDiscount Store, 52dea92d3cf9994f4e043dbb (to include Dollar stores)\\\nFurniture / Home Store, 4bf58dd8d48988d1f8941735\\\nGarden Center, 4eb1c0253b7b52c0e1adc2e9\\\nHardware Store, 4bf58dd8d48988d112951735\\\nKitchen Supply Store, 58daa1558bbb0b01f18ec1b4\\\nSupermarket, 52f2ab2ebcbc57f1066b8b46 (to include Meijer and Walmart)\\\nWarehouse Store, 52e816a6bcbc57f1066b7a54 (to include Costco and Sams Club)<p>\n    \n<b>Outcome:</b> Produce k-means analysis and a map that clusters neighborhoods by access to the above listed categories."
        }
    ],
    "metadata": {
        "kernelspec": {
            "display_name": "Python 3.6",
            "language": "python",
            "name": "python3"
        },
        "language_info": {
            "codemirror_mode": {
                "name": "ipython",
                "version": 3
            },
            "file_extension": ".py",
            "mimetype": "text/x-python",
            "name": "python",
            "nbconvert_exporter": "python",
            "pygments_lexer": "ipython3",
            "version": "3.6.9"
        }
    },
    "nbformat": 4,
    "nbformat_minor": 1
}